{
 "cells": [
  {
   "cell_type": "markdown",
   "metadata": {},
   "source": [
    "# PyTorch Implementation of the NRMS Model for `EBNeRD` (RecSys'24 Challenge)\n",
    "### Course: `02456 Deep Learning` (Fall 2024)  \n",
    "**Institution:** Technical University of Denmark (DTU)  \n",
    "**Authors:** Kevin Moore (s204462) and Nico Tananow (s[insert number])\n",
    "\n",
    "### Acknowledgments  \n",
    "1. Special thanks to **Johannes Kruse** for his [TensorFlow implementation of the NRMS Model](https://github.com/ebanalyse/ebnerd-benchmark), which greatly supported the development of this PyTorch implementation for the EBNeRD project.  \n",
    "\n",
    "\n",
    "2. Our implementation is based on the NRMS model described in the paper **[\"Neural News Recommendation with Multi-Head Self-Attention\"](https://aclanthology.org/D19-1671/)** by Wu et al. (2019)."
   ]
  },
  {
   "cell_type": "markdown",
   "metadata": {},
   "source": [
    "# Implementation"
   ]
  },
  {
   "cell_type": "markdown",
   "metadata": {},
   "source": [
    "## 1. Importing Dependencies\n",
    "Import all necessary libraries and modules, including `utils.model` and `utils.helper` for the NRMS model, data preparation, training, and evaluation."
   ]
  },
  {
   "cell_type": "code",
   "execution_count": 1,
   "metadata": {},
   "outputs": [],
   "source": [
    "import sys\n",
    "import os\n",
    "import polars as pl\n",
    "os.environ[\"TOKENIZERS_PARALLELISM\"] = \"false\" # to avoid warnings in transformers\n",
    "from pathlib import Path\n",
    "# Get the current directory\n",
    "current_dir = os.getcwd()\n",
    "root_dir = os.path.join(os.path.dirname(os.path.dirname(current_dir)), \"dtu-02456-deep-learning-ebnerd\")\n",
    "src_dir = os.path.join(root_dir, \"src\")\n",
    "# Append the relative path to the utils folder and ebrec src\n",
    "sys.path.append(os.path.join(current_dir, \"utils\"))\n",
    "sys.path.append(src_dir)\n",
    "from importlib import reload\n",
    "\n",
    "import torch\n",
    "import utils.model\n",
    "reload(utils.model)\n",
    "from utils.model import (\n",
    "    NRMSModel\n",
    ")\n",
    "\n",
    "import utils.helper\n",
    "reload(utils.helper)\n",
    "from utils.helper import (\n",
    "\t\tSEED,\n",
    "    HParams,\n",
    "    load_articles_and_embeddings,\n",
    "    prepare_training_data,\n",
    "    train_model,\n",
    "    predict_scores,\n",
    "    save_hparams\n",
    ")\n",
    "import utils.evaluation\n",
    "reload(utils.evaluation)\n",
    "from utils.evaluation import (\n",
    "\t\tsave_ranked_scores,\n",
    "    prepare_test_data,\n",
    "    prepare_validation_data,\n",
    ")\n",
    "\n",
    "from ebrec.evaluation import MetricEvaluator, AucScore, NdcgScore, MrrScore\n",
    "from ebrec.utils._python import write_submission_file\n",
    "from ebrec.utils._constants import DEFAULT_IMPRESSION_ID_COL, DEFAULT_LABELS_COL"
   ]
  },
  {
   "cell_type": "markdown",
   "metadata": {},
   "source": [
    "## 2. Setting Hyperparameters\n",
    "Initialize the hyperparameters for the model"
   ]
  },
  {
   "cell_type": "code",
   "execution_count": 2,
   "metadata": {},
   "outputs": [],
   "source": [
    "# Setting hyperparameters\n",
    "hparams = HParams()\n",
    "hparams.data_fraction = 1\n",
    "hparams.batch_size = 32\n",
    "hparams.datasplit = \"ebnerd_small\""
   ]
  },
  {
   "cell_type": "markdown",
   "metadata": {},
   "source": [
    "## 3. Loading and creating **embeddings** for articles\n",
    "- Articles loaded from `DATASPLIT` directory "
   ]
  },
  {
   "cell_type": "code",
   "execution_count": 3,
   "metadata": {},
   "outputs": [
    {
     "name": "stdout",
     "output_type": "stream",
     "text": [
      "Loading data from  /Users/kevinmoore/Git Repositories/dtu-02456-deep-learning-ebnerd/our_implementation/data with datasplit: ebnerd_small\n"
     ]
    }
   ],
   "source": [
    "DATASPLIT = hparams.datasplit\n",
    "PATH = Path(os.path.join(current_dir, \"data\"))\n",
    "print(\"Loading data from \", PATH, \"with datasplit:\", DATASPLIT)\n",
    "DATASPLIT_PATH = Path(os.path.join(PATH, DATASPLIT))\n",
    "# Loading articles and embeddings\n",
    "article_mapping, word_embeddings = load_articles_and_embeddings(hparams, DATASPLIT_PATH)"
   ]
  },
  {
   "cell_type": "markdown",
   "metadata": {},
   "source": [
    "## 4. Training the Model\n",
    "- Initialize the NRMS model with preloaded hyperparameters and embeddings. \n",
    "- Train the model using the `train` directory in `DATASPLIT` bundle. \n",
    "- Early stopping is applied with a patience parameter of `3` to prevent overfitting."
   ]
  },
  {
   "cell_type": "code",
   "execution_count": 4,
   "metadata": {},
   "outputs": [
    {
     "name": "stdout",
     "output_type": "stream",
     "text": [
      "Using 2 workers for dataloading\n",
      "Using 2 workers for dataloading\n",
      " -> Train samples: 201537\n",
      " -> Validation samples: 32740\n"
     ]
    }
   ],
   "source": [
    "# Loading Training and Validation data\n",
    "train_loader, val_loader = prepare_training_data(\n",
    "    hparams, PATH, DATASPLIT, article_mapping\n",
    ")"
   ]
  },
  {
   "cell_type": "code",
   "execution_count": 5,
   "metadata": {},
   "outputs": [
    {
     "name": "stdout",
     "output_type": "stream",
     "text": [
      "Training model with  \n",
      " title_size: 30\n",
      " head_num: 20\n",
      " head_dim: 20\n",
      " attention_hidden_dim: 200\n",
      " dropout: 0.2\n",
      " batch_size: 32\n",
      " verbose: False\n",
      " data_fraction: 1\n",
      " sampling_nratio: 4\n",
      " history_size: 20\n",
      " epochs: 1\n",
      " learning_rate: 0.001\n",
      " transformer_model_name: facebookai/xlm-roberta-base\n",
      "Training information saved to: checkpoints/2024-12-21T13-39-59\n"
     ]
    },
    {
     "name": "stderr",
     "output_type": "stream",
     "text": [
      "Epoch 1/1: 100%|██████████| 6299/6299 [20:29<00:00,  5.12batch/s]\n",
      "Validation: 100%|██████████| 1024/1024 [00:40<00:00, 25.58batch/s]\n"
     ]
    },
    {
     "name": "stdout",
     "output_type": "stream",
     "text": [
      "Epoch 1/1, Train Loss: 15.8500, Val Loss: 1.9656, Val AUC: 0.5559, Improvement from Previous Epoch: 0.5559\n",
      "Checkpoint saved to: checkpoints/2024-12-21T13-39-59/nrms_checkpoint_1.pth\n"
     ]
    }
   ],
   "source": [
    "LOAD_FROM_CHECKPOINT = False\n",
    "\n",
    "print(\"Training model with \", hparams)\n",
    "device = torch.device(\"mps\" if torch.backends.mps.is_available() else \"cpu\") # mps: running with Apple Silicon\n",
    "model = NRMSModel(hparams, word_embeddings)\n",
    "\n",
    "CHECKPOINT_DIR = save_hparams(device, hparams)\n",
    "\n",
    "if not LOAD_FROM_CHECKPOINT: # Trains the model anew\n",
    "\tmodel = train_model(\n",
    "\t\t\tdevice,\n",
    "\t\t\tmodel,\n",
    "\t\t\ttrain_loader,\n",
    "\t\t\tval_loader,\n",
    "\t\t\thparams,\n",
    "\t\t\tpatience=3,\n",
    "\t\t\tcheckpoint_dir=CHECKPOINT_DIR,\n",
    "\t)\n",
    "else: \n",
    "\t\tCHECKPOINT = \"2024-12-20T19-41-58\" # Change this to the checkpoint you want to load from\n",
    "\t\t\n",
    "\t\timport json\n",
    "\t\tCHECKPOINT_DIR = os.path.join(current_dir, \"checkpoints/\" + CHECKPOINT)\n",
    "\t\tINFO_FILE_PATH = os.path.join(CHECKPOINT_DIR, \"info.json\")\n",
    "\n",
    "\t\twith open(INFO_FILE_PATH, \"r\") as json_file:\n",
    "\t\t\t\t\tdata = json.load(json_file)\n",
    "\n",
    "\t\t# Extract hyperparameters from JSON\n",
    "\t\thparams_data = data.get(\"Hyperparameters\", {})\n",
    "\n",
    "\t\t# Create an HParams instance with the loaded values\n",
    "\t\thparams = HParams(**hparams_data)\n",
    "\n",
    "\t\t# Load the model from the checkpoint\n",
    "\t\tpth_file = \"nrms_checkpoint_1.pth\"\n",
    "\t\tcheckpoint = torch.load(os.path.join(CHECKPOINT_DIR, pth_file))\n",
    "\t\tmodel = NRMSModel(hparams, word_embeddings=word_embeddings)\n",
    "\t\tmodel.load_state_dict(checkpoint['model_state_dict'])"
   ]
  },
  {
   "cell_type": "markdown",
   "metadata": {},
   "source": [
    "## 5. Evaluation using \"Validation\" directory\n",
    "Using `MetricEvaluator` from `ebnerd-benchmark` repo"
   ]
  },
  {
   "cell_type": "markdown",
   "metadata": {},
   "source": [
    "- **5.1** Loading the data"
   ]
  },
  {
   "cell_type": "code",
   "execution_count": 6,
   "metadata": {},
   "outputs": [
    {
     "name": "stdout",
     "output_type": "stream",
     "text": [
      "Using 2 workers for dataloading\n",
      " -> Validation samples: 244647\n"
     ]
    }
   ],
   "source": [
    "evaluation_loader = prepare_validation_data(\n",
    "    hparams, PATH, DATASPLIT, article_mapping\n",
    ")"
   ]
  },
  {
   "cell_type": "markdown",
   "metadata": {},
   "source": [
    "- **5.2** Predict scores"
   ]
  },
  {
   "cell_type": "code",
   "execution_count": 7,
   "metadata": {},
   "outputs": [
    {
     "name": "stderr",
     "output_type": "stream",
     "text": [
      "Testing: 100%|██████████| 7646/7646 [08:06<00:00, 15.71batch/s]\n"
     ]
    }
   ],
   "source": [
    "scores, labels  = predict_scores(model, evaluation_loader, device)"
   ]
  },
  {
   "cell_type": "markdown",
   "metadata": {},
   "source": [
    "- **5.3** Get Metrics using `MetricEvaluator`"
   ]
  },
  {
   "cell_type": "code",
   "execution_count": 8,
   "metadata": {},
   "outputs": [
    {
     "name": "stderr",
     "output_type": "stream",
     "text": [
      "AUC: 100%|████████████████████████████| 244647/244647 [01:15<00:00, 3252.14it/s]\n",
      "AUC: 100%|██████████████████████████| 244647/244647 [00:01<00:00, 129884.55it/s]\n",
      "AUC: 100%|███████████████████████████| 244647/244647 [00:04<00:00, 49276.36it/s]\n",
      "AUC: 100%|███████████████████████████| 244647/244647 [00:05<00:00, 48426.97it/s]\n"
     ]
    },
    {
     "data": {
      "text/plain": [
       "<MetricEvaluator class>: \n",
       " {\n",
       "    \"auc\": 0.5589647606087678,\n",
       "    \"mrr\": 0.3468401389415494,\n",
       "    \"ndcg@5\": 0.3865613547918292,\n",
       "    \"ndcg@10\": 0.4640687192683466\n",
       "}"
      ]
     },
     "execution_count": 8,
     "metadata": {},
     "output_type": "execute_result"
    }
   ],
   "source": [
    "metrics = MetricEvaluator(\n",
    "\t\tlabels=labels,\n",
    "    predictions=scores,\n",
    "    metric_functions=[AucScore(), MrrScore(), NdcgScore(k=5), NdcgScore(k=10)],\n",
    ")\n",
    "metrics.evaluate()"
   ]
  },
  {
   "cell_type": "markdown",
   "metadata": {},
   "source": [
    "## 6. Final testing and writing submission file\n",
    "Inspired from https://github.com/ebanalyse/ebnerd-benchmark/blob/main/examples/reproducibility_scripts/ebnerd_nrms.py"
   ]
  },
  {
   "cell_type": "markdown",
   "metadata": {},
   "source": [
    "- Using data from `ebnerd_testset` directory\n",
    "- Articles and embeddings loaded anew from above directory's `articles.parquet`\n",
    "- Test data loaded from `test` subdirectory\n",
    "- We split the testing data with and without beyond accurracy parameter similarly to the Github script"
   ]
  },
  {
   "cell_type": "code",
   "execution_count": 9,
   "metadata": {},
   "outputs": [
    {
     "name": "stdout",
     "output_type": "stream",
     "text": [
      "Loading testing data from  /Users/kevinmoore/Git Repositories/dtu-02456-deep-learning-ebnerd/our_implementation/data/ebnerd_testset\n",
      "Using 2 workers for dataloading\n",
      "Using 2 workers for dataloading\n",
      " -> Testing samples: 13536710\n"
     ]
    }
   ],
   "source": [
    "TESTSET_DIR = Path(os.path.join(PATH, \"ebnerd_testset\"))\n",
    "TESTSET_PATH = Path(os.path.join(TESTSET_DIR, \"test\"))\n",
    "\n",
    "print(\"Loading testing data from \", TESTSET_DIR)\n",
    "article_mapping_test, word_embeddings_test = load_articles_and_embeddings(hparams, TESTSET_DIR)\n",
    "\n",
    "df_test_wo_ba, df_test_w_ba, loader_wo_ba, loader_w_ba = prepare_test_data(\n",
    "    hparams, TESTSET_PATH, article_mapping=article_mapping_test\n",
    ")"
   ]
  },
  {
   "cell_type": "markdown",
   "metadata": {},
   "source": [
    "- Run the trained NRMS model on the testing dataset and predict scores"
   ]
  },
  {
   "cell_type": "code",
   "execution_count": 10,
   "metadata": {},
   "outputs": [
    {
     "name": "stderr",
     "output_type": "stream",
     "text": [
      "Testing: 100%|██████████| 416773/416773 [7:06:53<00:00, 16.27batch/s]    \n",
      "Testing: 100%|██████████| 6250/6250 [29:04<00:00,  3.58batch/s]\n"
     ]
    }
   ],
   "source": [
    "EVALUATION_DIR = Path(os.path.join(CHECKPOINT_DIR, \"evaluation\"))\n",
    "os.makedirs(EVALUATION_DIR, exist_ok=True)\n",
    "\n",
    "# Without beyond accuracy\n",
    "scores_wo_ba, labels_wo_ba  = predict_scores(model, loader_wo_ba, device)\n",
    "df_pred_test_wo_ba = save_ranked_scores(df_test_wo_ba, scores_wo_ba, EVALUATION_DIR, \"wo_ba\")\n",
    "\n",
    "# With beyond accuracy\n",
    "scores_w_ba, labels_w_ba = predict_scores(model, loader_w_ba, device)\n",
    "df_pred_test_w_ba = save_ranked_scores(df_test_w_ba, scores_w_ba, EVALUATION_DIR, \"w_ba\")\n",
    "\n",
    "df_pred_test = pl.concat([df_pred_test_wo_ba, df_pred_test_w_ba])\n",
    "df_test_predictions_parquet = df_pred_test.select(DEFAULT_IMPRESSION_ID_COL, \"ranked_scores\")\n",
    "df_test_predictions_parquet.write_parquet(EVALUATION_DIR.joinpath(\"test_predictions.parquet\"))"
   ]
  },
  {
   "cell_type": "markdown",
   "metadata": {},
   "source": [
    "### Writing Submission File"
   ]
  },
  {
   "cell_type": "code",
   "execution_count": 11,
   "metadata": {},
   "outputs": [
    {
     "name": "stderr",
     "output_type": "stream",
     "text": [
      "13536710it [13:33, 16645.26it/s]\n"
     ]
    },
    {
     "name": "stdout",
     "output_type": "stream",
     "text": [
      "Zipping checkpoints/2024-12-21T13-39-59/evaluation/predictions.txt to checkpoints/2024-12-21T13-39-59/evaluation/NRMSModel-42-ebnerd_small.zip\n"
     ]
    }
   ],
   "source": [
    "write_submission_file(\n",
    "    impression_ids=df_pred_test[DEFAULT_IMPRESSION_ID_COL],\n",
    "    prediction_scores=df_pred_test[\"ranked_scores\"],\n",
    "    path=EVALUATION_DIR.joinpath(\"predictions.txt\"),\n",
    "    filename_zip=f\"{model.__class__.__name__}-{SEED}-{DATASPLIT}.zip\",\n",
    ")"
   ]
  }
 ],
 "metadata": {
  "kernelspec": {
   "display_name": "eb-nerd",
   "language": "python",
   "name": "python3"
  },
  "language_info": {
   "codemirror_mode": {
    "name": "ipython",
    "version": 3
   },
   "file_extension": ".py",
   "mimetype": "text/x-python",
   "name": "python",
   "nbconvert_exporter": "python",
   "pygments_lexer": "ipython3",
   "version": "3.11.10"
  }
 },
 "nbformat": 4,
 "nbformat_minor": 2
}
