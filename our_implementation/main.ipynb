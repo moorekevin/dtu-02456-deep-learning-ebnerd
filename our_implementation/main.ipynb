{
 "cells": [
  {
   "cell_type": "markdown",
   "metadata": {},
   "source": [
    "# Simplified Jupyter notebook"
   ]
  },
  {
   "cell_type": "code",
   "execution_count": 6,
   "metadata": {},
   "outputs": [],
   "source": [
    "import sys\n",
    "import os\n",
    "os.environ[\"TOKENIZERS_PARALLELISM\"] = \"false\" # to avoid warnings in transformers\n",
    "from pathlib import Path\n",
    "# Get the current directory\n",
    "current_dir = os.getcwd()\n",
    "\n",
    "# Append the relative path to the utils folder\n",
    "sys.path.append(os.path.join(current_dir, \"utils\"))\n",
    "\n",
    "from importlib import reload\n",
    "\n",
    "import utils.model\n",
    "reload(utils.model)\n",
    "from utils.model import (\n",
    "    NRMSModel\n",
    ")\n",
    "\n",
    "import utils.helper\n",
    "reload(utils.helper)\n",
    "from utils.helper import (\n",
    "    HParams,\n",
    "    prepare_training_data,\n",
    "    torch,\n",
    "    train_and_evaluate,\n",
    "    evaluate_model,\n",
    ")\n"
   ]
  },
  {
   "cell_type": "code",
   "execution_count": 7,
   "metadata": {},
   "outputs": [
    {
     "name": "stdout",
     "output_type": "stream",
     "text": [
      "Loading data from  /Users/kevinmoore/Git Repositories/dtu-02456-deep-learning-ebnerd/our_implementation/data\n",
      "Training model with  \n",
      " title_size: 30\n",
      " head_num: 20\n",
      " head_dim: 20\n",
      " attention_hidden_dim: 200\n",
      " dropout: 0.2\n",
      " batch_size: 32\n",
      " verbose: False\n",
      " data_fraction: 0.01\n",
      " sampling_nratio: 4\n",
      " history_size: 20\n",
      " epochs: 1\n",
      " learning_rate: 0.001\n",
      " transformer_model_name: facebookai/xlm-roberta-base\n"
     ]
    },
    {
     "name": "stderr",
     "output_type": "stream",
     "text": [
      "Epoch 1/1: 100%|██████████| 63/63 [00:52<00:00,  1.20batch/s]\n",
      "Validation: 100%|██████████| 11/11 [00:01<00:00,  6.06batch/s]\n"
     ]
    },
    {
     "name": "stdout",
     "output_type": "stream",
     "text": [
      "Epoch 1/1, Train Loss: 1.6022, Val Loss: 1.6025, Val AUC: 0.5396, Improvement from Previous Epoch: 0.5396\n",
      "Checkpoint saved to: checkpoints/nrms_checkpoint_1.pth\n",
      "\n",
      "Validation Metrics:\n",
      "auc: 0.5396\n"
     ]
    }
   ],
   "source": [
    "# Setting hyperparameters\n",
    "hparams = HParams()\n",
    "hparams.data_fraction = 0.01\n",
    "hparams.batch_size = 32\n",
    "\n",
    "# Preprocessing and Loading Data\n",
    "# Data loading\n",
    "PATH = Path(os.path.join(current_dir, \"data\"))\n",
    "DATASPLIT = \"ebnerd_small\"\n",
    "\n",
    "print(\"Loading data from \", PATH)\n",
    "train_loader, val_loader, word_embeddings = prepare_training_data(\n",
    "    hparams, PATH, DATASPLIT\n",
    ")\n",
    "\n",
    "# Initialize and train model\n",
    "print(\"Training model with \", hparams)\n",
    "device = torch.device(\"cuda\" if torch.cuda.is_available() else \"cpu\")\n",
    "model = NRMSModel(hparams, word_embeddings)\n",
    "\n",
    "model = train_and_evaluate(\n",
    "    device,\n",
    "    model,\n",
    "    train_loader,\n",
    "    val_loader,\n",
    "    hparams,\n",
    "    patience=3,\n",
    ")\n",
    "\n",
    "# Evaluate model\n",
    "metrics = evaluate_model(model, val_loader, device)\n",
    "print(\"\\nValidation Metrics:\")\n",
    "for metric_name, value in metrics.items():\n",
    "    print(f\"{metric_name}: {value:.4f}\")"
   ]
  }
 ],
 "metadata": {
  "kernelspec": {
   "display_name": "eb-nerd",
   "language": "python",
   "name": "python3"
  },
  "language_info": {
   "codemirror_mode": {
    "name": "ipython",
    "version": 3
   },
   "file_extension": ".py",
   "mimetype": "text/x-python",
   "name": "python",
   "nbconvert_exporter": "python",
   "pygments_lexer": "ipython3",
   "version": "3.11.10"
  }
 },
 "nbformat": 4,
 "nbformat_minor": 2
}
