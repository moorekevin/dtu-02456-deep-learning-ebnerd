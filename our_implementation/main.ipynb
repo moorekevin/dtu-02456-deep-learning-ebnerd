{
 "cells": [
  {
   "cell_type": "markdown",
   "metadata": {},
   "source": [
    "# PyTorch Implementation of the NRMS Model for `EBNeRD` (RecSys'24 Challenge)\n",
    "### Course: `02456 Deep Learning` (Fall 2024)  \n",
    "**Institution:** Technical University of Denmark (DTU)  \n",
    "**Authors:** Kevin Moore (s204462) and Nico Tananow (s[insert number])\n",
    "\n",
    "### Acknowledgments  \n",
    "1. Special thanks to **Johannes Kruse** for his [TensorFlow implementation of the NRMS Model](https://github.com/ebanalyse/ebnerd-benchmark), which greatly supported the development of this PyTorch implementation for the EBNeRD project.  \n",
    "\n",
    "\n",
    "2. Our implementation is based on the NRMS model described in the paper **[\"Neural News Recommendation with Multi-Head Self-Attention\"](https://aclanthology.org/D19-1671/)** by Wu et al. (2019)."
   ]
  },
  {
   "cell_type": "markdown",
   "metadata": {},
   "source": [
    "# Implementation"
   ]
  },
  {
   "cell_type": "markdown",
   "metadata": {},
   "source": [
    "## 1. Importing Dependencies\n",
    "Import all necessary libraries and modules, including `utils.model` and `utils.helper` for the NRMS model, data preparation, training, and evaluation."
   ]
  },
  {
   "cell_type": "code",
   "execution_count": 80,
   "metadata": {},
   "outputs": [],
   "source": [
    "import sys\n",
    "import os\n",
    "os.environ[\"TOKENIZERS_PARALLELISM\"] = \"false\" # to avoid warnings in transformers\n",
    "from pathlib import Path\n",
    "# Get the current directory\n",
    "current_dir = os.getcwd()\n",
    "root_dir = os.path.join(os.path.dirname(os.path.dirname(current_dir)), \"dtu-02456-deep-learning-ebnerd\")\n",
    "src_dir = os.path.join(root_dir, \"src\")\n",
    "# Append the relative path to the utils folder and ebrec src\n",
    "sys.path.append(os.path.join(current_dir, \"utils\"))\n",
    "sys.path.append(src_dir)\n",
    "from importlib import reload\n",
    "\n",
    "import torch\n",
    "import utils.model\n",
    "reload(utils.model)\n",
    "from utils.model import (\n",
    "    NRMSModel\n",
    ")\n",
    "\n",
    "import utils.helper\n",
    "reload(utils.helper)\n",
    "from utils.helper import (\n",
    "    HParams,\n",
    "    load_articles_and_embeddings,\n",
    "    prepare_training_data,\n",
    "    prepare_test_data,\n",
    "    train_model,\n",
    "    evaluate_model,\n",
    ")\n"
   ]
  },
  {
   "cell_type": "markdown",
   "metadata": {},
   "source": [
    "## 2. Setting Hyperparameters\n",
    "Initialize the hyperparameters for the model"
   ]
  },
  {
   "cell_type": "code",
   "execution_count": 77,
   "metadata": {},
   "outputs": [],
   "source": [
    "# Setting hyperparameters\n",
    "hparams = HParams()\n",
    "hparams.data_fraction = 1\n",
    "hparams.batch_size = 32\n",
    "\n",
    "DATASPLIT = \"ebnerd_small\""
   ]
  },
  {
   "cell_type": "markdown",
   "metadata": {},
   "source": [
    "### 3. Loading Data\n",
    "1. Loading and creating **embeddings** for articles\n",
    "2. Loading **training** data and splitting it to training/validation (from `{datasplit}/train`)\n",
    "3. Loading **testing** data for final evaluation (from `{datasplit}/validation`)"
   ]
  },
  {
   "cell_type": "code",
   "execution_count": 78,
   "metadata": {},
   "outputs": [
    {
     "name": "stdout",
     "output_type": "stream",
     "text": [
      "Loading data from  /Users/kevinmoore/Git Repositories/dtu-02456-deep-learning-ebnerd/our_implementation/data with datasplit: ebnerd_small\n",
      " -> Train samples: 2342\n",
      " -> Validation samples: 301\n",
      " -> Testing samples: 2446\n"
     ]
    }
   ],
   "source": [
    "PATH = Path(os.path.join(current_dir, \"data\"))\n",
    "print(\"Loading data from \", PATH, \"with datasplit:\", DATASPLIT)\n",
    "\n",
    "# Loading articles and embeddings\n",
    "article_mapping, word_embeddings = load_articles_and_embeddings(hparams, PATH)\n",
    "# Training Data\n",
    "train_loader, val_loader = prepare_training_data(\n",
    "    hparams, PATH, DATASPLIT, article_mapping\n",
    ")\n",
    "\n",
    "# Test Data for final evaluation\n",
    "test_loader = prepare_test_data(\n",
    "    hparams, PATH, DATASPLIT, article_mapping\n",
    ")"
   ]
  },
  {
   "cell_type": "markdown",
   "metadata": {},
   "source": [
    "### 4. Training the Model\n",
    "- Initialize the NRMS model with preloaded hyperparameters and embeddings. \n",
    "- Train the model using the training and validation datasets. \n",
    "- Early stopping is applied with a patience parameter of 3 to prevent overfitting."
   ]
  },
  {
   "cell_type": "code",
   "execution_count": 79,
   "metadata": {},
   "outputs": [
    {
     "name": "stdout",
     "output_type": "stream",
     "text": [
      "Training model with  \n",
      " title_size: 30\n",
      " head_num: 20\n",
      " head_dim: 20\n",
      " attention_hidden_dim: 200\n",
      " dropout: 0.2\n",
      " batch_size: 32\n",
      " verbose: False\n",
      " data_fraction: 0.01\n",
      " sampling_nratio: 4\n",
      " history_size: 20\n",
      " epochs: 1\n",
      " learning_rate: 0.001\n",
      " transformer_model_name: facebookai/xlm-roberta-base\n",
      "Training information saved to: checkpoints/2024-12-17T15-24-25/info.txt\n"
     ]
    },
    {
     "name": "stderr",
     "output_type": "stream",
     "text": [
      "Epoch 1/1:   0%|          | 0/64 [00:00<?, ?batch/s]"
     ]
    },
    {
     "name": "stderr",
     "output_type": "stream",
     "text": [
      "Epoch 1/1: 100%|██████████| 64/64 [00:55<00:00,  1.15batch/s]\n",
      "Validation: 100%|██████████| 10/10 [00:02<00:00,  4.75batch/s]\n"
     ]
    },
    {
     "name": "stdout",
     "output_type": "stream",
     "text": [
      "Epoch 1/1, Train Loss: 1.6175, Val Loss: 1.5177, Val AUC: 0.5970, Improvement from Previous Epoch: 0.5970\n",
      "Checkpoint saved to: checkpoints/2024-12-17T15-24-25/nrms_checkpoint_1.pth\n"
     ]
    }
   ],
   "source": [
    "print(\"Training model with \", hparams)\n",
    "device = torch.device(\"cuda\" if torch.cuda.is_available() else \"cpu\")\n",
    "model = NRMSModel(hparams, word_embeddings)\n",
    "\n",
    "model = train_model(\n",
    "    device,\n",
    "    model,\n",
    "    train_loader,\n",
    "    val_loader,\n",
    "    hparams,\n",
    "    patience=3,\n",
    ")"
   ]
  },
  {
   "cell_type": "markdown",
   "metadata": {},
   "source": [
    "### 5. Evaluating the Model\n",
    "- Evaluate the trained NRMS model on the testing dataset. \n",
    "- Print out performance metrics"
   ]
  },
  {
   "cell_type": "code",
   "execution_count": 81,
   "metadata": {},
   "outputs": [
    {
     "name": "stderr",
     "output_type": "stream",
     "text": [
      "Testing: 100%|██████████| 77/77 [00:32<00:00,  2.36batch/s]"
     ]
    },
    {
     "name": "stdout",
     "output_type": "stream",
     "text": [
      "\n",
      "Validation Metrics:\n",
      "auc: 0.5605\n"
     ]
    },
    {
     "name": "stderr",
     "output_type": "stream",
     "text": [
      "\n"
     ]
    }
   ],
   "source": [
    "# Evaluate model\n",
    "metrics = evaluate_model(model, test_loader, device)\n",
    "print(\"\\nValidation Metrics:\")\n",
    "for metric_name, value in metrics.items():\n",
    "    print(f\"{metric_name}: {value:.4f}\")"
   ]
  }
 ],
 "metadata": {
  "kernelspec": {
   "display_name": "eb-nerd",
   "language": "python",
   "name": "python3"
  },
  "language_info": {
   "codemirror_mode": {
    "name": "ipython",
    "version": 3
   },
   "file_extension": ".py",
   "mimetype": "text/x-python",
   "name": "python",
   "nbconvert_exporter": "python",
   "pygments_lexer": "ipython3",
   "version": "3.11.10"
  }
 },
 "nbformat": 4,
 "nbformat_minor": 2
}
