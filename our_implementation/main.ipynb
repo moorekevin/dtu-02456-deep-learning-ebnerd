{
 "cells": [
  {
   "cell_type": "markdown",
   "metadata": {},
   "source": [
    "# PyTorch Implementation of the NRMS Model for `EBNeRD` (RecSys'24 Challenge)\n",
    "### Course: `02456 Deep Learning` (Fall 2024)  \n",
    "**Institution:** Technical University of Denmark (DTU)  \n",
    "**Authors:** Kevin Moore (s204462) and Nico Tananow (s[insert number])\n",
    "\n",
    "### Acknowledgments  \n",
    "1. Special thanks to **Johannes Kruse** for his [TensorFlow implementation of the NRMS Model](https://github.com/ebanalyse/ebnerd-benchmark), which greatly supported the development of this PyTorch implementation for the EBNeRD project.  \n",
    "\n",
    "\n",
    "2. Our implementation is based on the NRMS model described in the paper **[\"Neural News Recommendation with Multi-Head Self-Attention\"](https://aclanthology.org/D19-1671/)** by Wu et al. (2019)."
   ]
  },
  {
   "cell_type": "markdown",
   "metadata": {},
   "source": [
    "# Implementation"
   ]
  },
  {
   "cell_type": "markdown",
   "metadata": {},
   "source": [
    "## 1. Importing Dependencies\n",
    "Import all necessary libraries and modules, including `utils.model` and `utils.helper` for the NRMS model, data preparation, training, and evaluation."
   ]
  },
  {
   "cell_type": "code",
   "execution_count": 61,
   "metadata": {},
   "outputs": [],
   "source": [
    "import sys\n",
    "import os\n",
    "os.environ[\"TOKENIZERS_PARALLELISM\"] = \"false\" # to avoid warnings in transformers\n",
    "from pathlib import Path\n",
    "# Get the current directory\n",
    "current_dir = os.getcwd()\n",
    "root_dir = os.path.join(os.path.dirname(os.path.dirname(current_dir)), \"dtu-02456-deep-learning-ebnerd\")\n",
    "src_dir = os.path.join(root_dir, \"src\")\n",
    "# Append the relative path to the utils folder and ebrec src\n",
    "sys.path.append(os.path.join(current_dir, \"utils\"))\n",
    "sys.path.append(src_dir)\n",
    "from importlib import reload\n",
    "\n",
    "import torch\n",
    "import utils.model\n",
    "reload(utils.model)\n",
    "from utils.model import (\n",
    "    NRMSModel\n",
    ")\n",
    "\n",
    "import utils.helper\n",
    "reload(utils.helper)\n",
    "from utils.helper import (\n",
    "    HParams,\n",
    "    load_articles_and_embeddings,\n",
    "    prepare_training_data,\n",
    "    prepare_test_data,\n",
    "    train_model,\n",
    "    evaluate_model,\n",
    "    predict_scores,\n",
    "    save_hparams\n",
    ")\n",
    "import datetime\n",
    "\n",
    "from ebrec.evaluation import MetricEvaluator, AucScore, NdcgScore, MrrScore\n",
    "from ebrec.utils._python import rank_predictions_by_score, write_submission_file\n",
    "from ebrec.utils._constants import DEFAULT_IMPRESSION_ID_COL"
   ]
  },
  {
   "cell_type": "markdown",
   "metadata": {},
   "source": [
    "### (Optional) Load from checkpoint"
   ]
  },
  {
   "cell_type": "code",
   "execution_count": 15,
   "metadata": {},
   "outputs": [],
   "source": [
    "LOAD_FROM_CHECKPOINT = False\n",
    "if LOAD_FROM_CHECKPOINT:\n",
    "\t\tCHECKPOINT = \"2024-12-18T13-58-31\" # Change this to the checkpoint you want to load from\n",
    "\t\t\n",
    "\t\timport json\n",
    "\t\tCHECKPOINT_DIR = os.path.join(current_dir, \"checkpoints/\" + CHECKPOINT)\n",
    "\t\tINFO_FILE_PATH = os.path.join(CHECKPOINT_DIR, \"info.json\")\n",
    "\n",
    "\t\twith open(INFO_FILE_PATH, \"r\") as json_file:\n",
    "\t\t\t\t\tdata = json.load(json_file)\n",
    "\n",
    "\t\t# Extract hyperparameters from JSON\n",
    "\t\thparams_data = data.get(\"Hyperparameters\", {})\n",
    "\n",
    "\t\t# Create an HParams instance with the loaded values\n",
    "\t\thparams = HParams(**hparams_data)\n",
    "\n",
    "\t\t# Load the model from the checkpoint\n",
    "\t\tpth_file = \"nrms_checkpoint_1.pth\"\n",
    "\t\tcheckpoint = torch.load(os.path.join(CHECKPOINT_DIR, pth_file))\n",
    "\t\tNRMSModel.load_state_dict(checkpoint['model_state_dict'])"
   ]
  },
  {
   "cell_type": "markdown",
   "metadata": {},
   "source": [
    "## 2. Setting Hyperparameters\n",
    "Initialize the hyperparameters for the model"
   ]
  },
  {
   "cell_type": "code",
   "execution_count": 62,
   "metadata": {},
   "outputs": [],
   "source": [
    "# Setting hyperparameters\n",
    "hparams = HParams()\n",
    "hparams.data_fraction = 0.01\n",
    "hparams.batch_size = 32\n",
    "\n",
    "DATASPLIT = hparams.datasplit"
   ]
  },
  {
   "cell_type": "markdown",
   "metadata": {},
   "source": [
    "## 3. Loading and creating **embeddings** for articles"
   ]
  },
  {
   "cell_type": "code",
   "execution_count": 63,
   "metadata": {},
   "outputs": [
    {
     "name": "stdout",
     "output_type": "stream",
     "text": [
      "Loading data from  /Users/kevinmoore/Git Repositories/dtu-02456-deep-learning-ebnerd/our_implementation/data with datasplit: ebnerd_small\n"
     ]
    }
   ],
   "source": [
    "PATH = Path(os.path.join(current_dir, \"data\"))\n",
    "print(\"Loading data from \", PATH, \"with datasplit:\", DATASPLIT)\n",
    "\n",
    "# Loading articles and embeddings\n",
    "article_mapping, word_embeddings = load_articles_and_embeddings(hparams, PATH)"
   ]
  },
  {
   "cell_type": "markdown",
   "metadata": {},
   "source": [
    "## 4. Training the Model\n",
    "- Initialize the NRMS model with preloaded hyperparameters and embeddings. \n",
    "- Train the model using the training and validation datasets. \n",
    "- Early stopping is applied with a patience parameter of 3 to prevent overfitting."
   ]
  },
  {
   "cell_type": "code",
   "execution_count": 64,
   "metadata": {},
   "outputs": [
    {
     "name": "stdout",
     "output_type": "stream",
     "text": [
      " -> Train samples: 2342\n",
      " -> Validation samples: 332\n"
     ]
    }
   ],
   "source": [
    "# Loading Training and Validation data\n",
    "train_loader, val_loader = prepare_training_data(\n",
    "    hparams, PATH, DATASPLIT, article_mapping\n",
    ")"
   ]
  },
  {
   "cell_type": "code",
   "execution_count": 65,
   "metadata": {},
   "outputs": [
    {
     "name": "stdout",
     "output_type": "stream",
     "text": [
      "Training model with  \n",
      " title_size: 30\n",
      " head_num: 20\n",
      " head_dim: 20\n",
      " attention_hidden_dim: 200\n",
      " dropout: 0.2\n",
      " batch_size: 32\n",
      " verbose: False\n",
      " data_fraction: 0.01\n",
      " sampling_nratio: 4\n",
      " history_size: 20\n",
      " epochs: 1\n",
      " learning_rate: 0.001\n",
      " transformer_model_name: facebookai/xlm-roberta-base\n",
      "Training information saved to: checkpoints/2024-12-20T15-56-16\n"
     ]
    },
    {
     "name": "stderr",
     "output_type": "stream",
     "text": [
      "Epoch 1/1: 100%|██████████| 63/63 [00:49<00:00,  1.26batch/s]\n",
      "Validation: 100%|██████████| 11/11 [00:01<00:00,  6.50batch/s]\n"
     ]
    },
    {
     "name": "stdout",
     "output_type": "stream",
     "text": [
      "Epoch 1/1, Train Loss: 1.5584, Val Loss: 1.5807, Val AUC: 0.5244, Improvement from Previous Epoch: 0.5244\n",
      "Checkpoint saved to: checkpoints/2024-12-20T15-56-16/nrms_checkpoint_1.pth\n"
     ]
    }
   ],
   "source": [
    "print(\"Training model with \", hparams)\n",
    "device = torch.device(\"cuda\" if torch.cuda.is_available() else \"cpu\")\n",
    "model = NRMSModel(hparams, word_embeddings)\n",
    "\n",
    "CHECKPOINT_DIR = save_hparams(device, hparams)\n",
    "\n",
    "model = train_model(\n",
    "    device,\n",
    "    model,\n",
    "    train_loader,\n",
    "    val_loader,\n",
    "    hparams,\n",
    "    patience=3,\n",
    "    checkpoint_dir=CHECKPOINT_DIR,\n",
    ")"
   ]
  },
  {
   "cell_type": "markdown",
   "metadata": {},
   "source": [
    "## 5. Evaluating the Model\n",
    "- Load test data\n",
    "- Evaluate the trained NRMS model on the testing dataset. \n",
    "- Print out performance metrics"
   ]
  },
  {
   "cell_type": "code",
   "execution_count": 66,
   "metadata": {},
   "outputs": [
    {
     "name": "stdout",
     "output_type": "stream",
     "text": [
      "Loading data from  /Users/kevinmoore/Git Repositories/dtu-02456-deep-learning-ebnerd/our_implementation/data with datasplit: ebnerd_small\n",
      " -> Testing samples: 2446\n"
     ]
    }
   ],
   "source": [
    "# Loading Test Data for final evaluation\n",
    "print(\"Loading data from \", PATH, \"with datasplit:\", DATASPLIT)\n",
    "test_loader, df_test = prepare_test_data(\n",
    "    hparams, PATH, DATASPLIT, article_mapping\n",
    ")"
   ]
  },
  {
   "cell_type": "code",
   "execution_count": 27,
   "metadata": {},
   "outputs": [
    {
     "name": "stderr",
     "output_type": "stream",
     "text": [
      "Testing: 100%|██████████| 77/77 [00:28<00:00,  2.73batch/s]"
     ]
    },
    {
     "name": "stdout",
     "output_type": "stream",
     "text": [
      "\n",
      "Validation Metrics:\n",
      "auc: 0.5865\n"
     ]
    },
    {
     "name": "stderr",
     "output_type": "stream",
     "text": [
      "\n"
     ]
    }
   ],
   "source": [
    "# # Evaluate model\n",
    "# metrics = evaluate_model(model, test_loader, device)\n",
    "# print(\"\\nValidation Metrics:\")\n",
    "# for metric_name, value in metrics.items():\n",
    "#     print(f\"{metric_name}: {value:.4f}\")"
   ]
  },
  {
   "cell_type": "code",
   "execution_count": 67,
   "metadata": {},
   "outputs": [
    {
     "name": "stderr",
     "output_type": "stream",
     "text": [
      "Testing: 100%|██████████| 77/77 [00:28<00:00,  2.70batch/s]\n"
     ]
    }
   ],
   "source": [
    "scores, labels  = predict_scores(model, test_loader, device)"
   ]
  },
  {
   "cell_type": "code",
   "execution_count": 68,
   "metadata": {},
   "outputs": [
    {
     "name": "stderr",
     "output_type": "stream",
     "text": [
      "AUC: 100%|████████████████████████████████| 2446/2446 [00:00<00:00, 3028.21it/s]\n",
      "AUC: 100%|███████████████████████████████| 2446/2446 [00:00<00:00, 98792.14it/s]\n",
      "AUC: 100%|███████████████████████████████| 2446/2446 [00:00<00:00, 47488.69it/s]\n",
      "AUC: 100%|███████████████████████████████| 2446/2446 [00:00<00:00, 45678.56it/s]\n"
     ]
    },
    {
     "data": {
      "text/plain": [
       "<MetricEvaluator class>: \n",
       " {\n",
       "    \"auc\": 0.5924188372905562,\n",
       "    \"mrr\": 0.37210143454708167,\n",
       "    \"ndcg@5\": 0.41878617650906275,\n",
       "    \"ndcg@10\": 0.48918820031785415\n",
       "}"
      ]
     },
     "execution_count": 68,
     "metadata": {},
     "output_type": "execute_result"
    }
   ],
   "source": [
    "metrics = MetricEvaluator(\n",
    "    labels=labels,\n",
    "    predictions=scores,\n",
    "    metric_functions=[AucScore(), MrrScore(), NdcgScore(k=5), NdcgScore(k=10)],\n",
    ")\n",
    "metrics.evaluate()"
   ]
  },
  {
   "cell_type": "markdown",
   "metadata": {},
   "source": [
    "# 6. Writing Submission File"
   ]
  },
  {
   "cell_type": "code",
   "execution_count": 69,
   "metadata": {},
   "outputs": [],
   "source": [
    "ranked_scores = [list(rank_predictions_by_score(score)) for score in scores]"
   ]
  },
  {
   "cell_type": "code",
   "execution_count": 70,
   "metadata": {},
   "outputs": [
    {
     "ename": "AttributeError",
     "evalue": "'str' object has no attribute 'joinpath'",
     "output_type": "error",
     "traceback": [
      "\u001b[0;31m---------------------------------------------------------------------------\u001b[0m",
      "\u001b[0;31mAttributeError\u001b[0m                            Traceback (most recent call last)",
      "Cell \u001b[0;32mIn[70], line 4\u001b[0m\n\u001b[1;32m      1\u001b[0m write_submission_file(\n\u001b[1;32m      2\u001b[0m     impression_ids\u001b[38;5;241m=\u001b[39mdf_test[DEFAULT_IMPRESSION_ID_COL],\n\u001b[1;32m      3\u001b[0m     prediction_scores\u001b[38;5;241m=\u001b[39mranked_scores,\n\u001b[0;32m----> 4\u001b[0m     path\u001b[38;5;241m=\u001b[39m\u001b[43mCHECKPOINT_DIR\u001b[49m\u001b[38;5;241;43m.\u001b[39;49m\u001b[43mjoinpath\u001b[49m(\u001b[38;5;124m\"\u001b[39m\u001b[38;5;124mpredictions.txt\u001b[39m\u001b[38;5;124m\"\u001b[39m),\n\u001b[1;32m      5\u001b[0m     filename_zip\u001b[38;5;241m=\u001b[39m\u001b[38;5;124mf\u001b[39m\u001b[38;5;124m\"\u001b[39m\u001b[38;5;132;01m{\u001b[39;00mDATASPLIT\u001b[38;5;132;01m}\u001b[39;00m\u001b[38;5;124m_predictions-\u001b[39m\u001b[38;5;132;01m{\u001b[39;00mmodel\u001b[38;5;241m.\u001b[39m\u001b[38;5;18m__class__\u001b[39m\u001b[38;5;241m.\u001b[39m\u001b[38;5;18m__name__\u001b[39m\u001b[38;5;132;01m}\u001b[39;00m\u001b[38;5;124m.zip\u001b[39m\u001b[38;5;124m\"\u001b[39m,\n\u001b[1;32m      6\u001b[0m )\n",
      "\u001b[0;31mAttributeError\u001b[0m: 'str' object has no attribute 'joinpath'"
     ]
    }
   ],
   "source": [
    "write_submission_file(\n",
    "    impression_ids=df_test[DEFAULT_IMPRESSION_ID_COL],\n",
    "    prediction_scores=ranked_scores,\n",
    "    path=os.joinpath(CHECKPOINT_DIR, \"predictions.txt\"),\n",
    "    filename_zip=f\"{DATASPLIT}_predictions-{model.__class__.__name__}.zip\",\n",
    ")"
   ]
  }
 ],
 "metadata": {
  "kernelspec": {
   "display_name": "eb-nerd",
   "language": "python",
   "name": "python3"
  },
  "language_info": {
   "codemirror_mode": {
    "name": "ipython",
    "version": 3
   },
   "file_extension": ".py",
   "mimetype": "text/x-python",
   "name": "python",
   "nbconvert_exporter": "python",
   "pygments_lexer": "ipython3",
   "version": "3.11.10"
  }
 },
 "nbformat": 4,
 "nbformat_minor": 2
}
